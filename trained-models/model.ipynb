{
 "cells": [
  {
   "cell_type": "code",
   "execution_count": null,
   "metadata": {
    "pycharm": {
     "name": "#%%\n"
    }
   },
   "outputs": [],
   "source": []
  },
  {
   "cell_type": "code",
   "execution_count": 6,
   "metadata": {
    "pycharm": {
     "name": "#%%\n"
    }
   },
   "outputs": [
    {
     "data": {
      "text/html": [
       "<div>\n",
       "<style scoped>\n",
       "    .dataframe tbody tr th:only-of-type {\n",
       "        vertical-align: middle;\n",
       "    }\n",
       "\n",
       "    .dataframe tbody tr th {\n",
       "        vertical-align: top;\n",
       "    }\n",
       "\n",
       "    .dataframe thead th {\n",
       "        text-align: right;\n",
       "    }\n",
       "</style>\n",
       "<table border=\"1\" class=\"dataframe\">\n",
       "  <thead>\n",
       "    <tr style=\"text-align: right;\">\n",
       "      <th></th>\n",
       "      <th>objid</th>\n",
       "      <th>ra</th>\n",
       "      <th>dec</th>\n",
       "      <th>u</th>\n",
       "      <th>g</th>\n",
       "      <th>r</th>\n",
       "      <th>i</th>\n",
       "      <th>z</th>\n",
       "      <th>run</th>\n",
       "      <th>rerun</th>\n",
       "      <th>camcol</th>\n",
       "      <th>field</th>\n",
       "      <th>specobjid</th>\n",
       "      <th>class</th>\n",
       "      <th>redshift</th>\n",
       "      <th>plate</th>\n",
       "      <th>mjd</th>\n",
       "      <th>fiberid</th>\n",
       "    </tr>\n",
       "  </thead>\n",
       "  <tbody>\n",
       "    <tr>\n",
       "      <th>0</th>\n",
       "      <td>1.237658e+18</td>\n",
       "      <td>122.472536</td>\n",
       "      <td>29.477546</td>\n",
       "      <td>18.80104</td>\n",
       "      <td>18.79409</td>\n",
       "      <td>19.17904</td>\n",
       "      <td>19.46893</td>\n",
       "      <td>19.62121</td>\n",
       "      <td>2830.0</td>\n",
       "      <td>301.0</td>\n",
       "      <td>1.0</td>\n",
       "      <td>82.0</td>\n",
       "      <td>5.011614e+18</td>\n",
       "      <td>STAR</td>\n",
       "      <td>0.000113</td>\n",
       "      <td>4451.0</td>\n",
       "      <td>55537.0</td>\n",
       "      <td>848.0</td>\n",
       "    </tr>\n",
       "    <tr>\n",
       "      <th>1</th>\n",
       "      <td>1.237661e+18</td>\n",
       "      <td>157.220491</td>\n",
       "      <td>38.044462</td>\n",
       "      <td>19.21634</td>\n",
       "      <td>17.36450</td>\n",
       "      <td>16.39222</td>\n",
       "      <td>15.96160</td>\n",
       "      <td>15.62490</td>\n",
       "      <td>3647.0</td>\n",
       "      <td>301.0</td>\n",
       "      <td>1.0</td>\n",
       "      <td>123.0</td>\n",
       "      <td>1.607801e+18</td>\n",
       "      <td>GALAXY</td>\n",
       "      <td>0.107083</td>\n",
       "      <td>1428.0</td>\n",
       "      <td>52998.0</td>\n",
       "      <td>56.0</td>\n",
       "    </tr>\n",
       "    <tr>\n",
       "      <th>2</th>\n",
       "      <td>1.237665e+18</td>\n",
       "      <td>128.426499</td>\n",
       "      <td>22.244187</td>\n",
       "      <td>17.58285</td>\n",
       "      <td>16.66683</td>\n",
       "      <td>16.37511</td>\n",
       "      <td>16.23573</td>\n",
       "      <td>16.03283</td>\n",
       "      <td>4517.0</td>\n",
       "      <td>301.0</td>\n",
       "      <td>2.0</td>\n",
       "      <td>113.0</td>\n",
       "      <td>2.171901e+18</td>\n",
       "      <td>GALAXY</td>\n",
       "      <td>0.024777</td>\n",
       "      <td>1929.0</td>\n",
       "      <td>53349.0</td>\n",
       "      <td>144.0</td>\n",
       "    </tr>\n",
       "    <tr>\n",
       "      <th>3</th>\n",
       "      <td>1.237655e+18</td>\n",
       "      <td>148.311910</td>\n",
       "      <td>3.603649</td>\n",
       "      <td>19.49339</td>\n",
       "      <td>18.02611</td>\n",
       "      <td>17.21924</td>\n",
       "      <td>16.73868</td>\n",
       "      <td>16.43414</td>\n",
       "      <td>2125.0</td>\n",
       "      <td>301.0</td>\n",
       "      <td>3.0</td>\n",
       "      <td>197.0</td>\n",
       "      <td>6.429279e+17</td>\n",
       "      <td>GALAXY</td>\n",
       "      <td>0.091564</td>\n",
       "      <td>571.0</td>\n",
       "      <td>52286.0</td>\n",
       "      <td>142.0</td>\n",
       "    </tr>\n",
       "    <tr>\n",
       "      <th>4</th>\n",
       "      <td>1.237649e+18</td>\n",
       "      <td>188.615906</td>\n",
       "      <td>0.966501</td>\n",
       "      <td>19.11787</td>\n",
       "      <td>18.80892</td>\n",
       "      <td>18.65386</td>\n",
       "      <td>18.43037</td>\n",
       "      <td>18.44886</td>\n",
       "      <td>752.0</td>\n",
       "      <td>301.0</td>\n",
       "      <td>6.0</td>\n",
       "      <td>301.0</td>\n",
       "      <td>3.266113e+17</td>\n",
       "      <td>QSO</td>\n",
       "      <td>1.528742</td>\n",
       "      <td>290.0</td>\n",
       "      <td>51941.0</td>\n",
       "      <td>365.0</td>\n",
       "    </tr>\n",
       "  </tbody>\n",
       "</table>\n",
       "</div>"
      ],
      "text/plain": [
       "          objid          ra        dec         u         g         r  \\\n",
       "0  1.237658e+18  122.472536  29.477546  18.80104  18.79409  19.17904   \n",
       "1  1.237661e+18  157.220491  38.044462  19.21634  17.36450  16.39222   \n",
       "2  1.237665e+18  128.426499  22.244187  17.58285  16.66683  16.37511   \n",
       "3  1.237655e+18  148.311910   3.603649  19.49339  18.02611  17.21924   \n",
       "4  1.237649e+18  188.615906   0.966501  19.11787  18.80892  18.65386   \n",
       "\n",
       "          i         z     run  rerun  camcol  field     specobjid   class  \\\n",
       "0  19.46893  19.62121  2830.0  301.0     1.0   82.0  5.011614e+18    STAR   \n",
       "1  15.96160  15.62490  3647.0  301.0     1.0  123.0  1.607801e+18  GALAXY   \n",
       "2  16.23573  16.03283  4517.0  301.0     2.0  113.0  2.171901e+18  GALAXY   \n",
       "3  16.73868  16.43414  2125.0  301.0     3.0  197.0  6.429279e+17  GALAXY   \n",
       "4  18.43037  18.44886   752.0  301.0     6.0  301.0  3.266113e+17     QSO   \n",
       "\n",
       "   redshift   plate      mjd  fiberid  \n",
       "0  0.000113  4451.0  55537.0    848.0  \n",
       "1  0.107083  1428.0  52998.0     56.0  \n",
       "2  0.024777  1929.0  53349.0    144.0  \n",
       "3  0.091564   571.0  52286.0    142.0  \n",
       "4  1.528742   290.0  51941.0    365.0  "
      ]
     },
     "execution_count": 6,
     "metadata": {},
     "output_type": "execute_result"
    }
   ],
   "source": [
    "#Data\n",
    "import pandas as pd\n",
    "import numpy as np\n",
    "from matplotlib import pyplot as plt\n",
    "import seaborn as sns\n",
    "df= pd.read_csv(\"C:\\\\Users\\\\gnane\\\\Downloads\\\\Skydata_pro\\\\Skydata_pro.csv\")\n",
    "df.head()\n"
   ]
  },
  {
   "cell_type": "code",
   "execution_count": 7,
   "metadata": {
    "pycharm": {
     "name": "#%%\n"
    }
   },
   "outputs": [
    {
     "data": {
      "text/plain": [
       "{'objid': 1.23765536929153e+18,\n",
       " 'ra': 201.4882319868,\n",
       " 'dec': 60.9673629642,\n",
       " 'u': 18.65062,\n",
       " 'g': 18.54073,\n",
       " 'r': 18.38786,\n",
       " 'i': 18.44258,\n",
       " 'z': 18.35214,\n",
       " 'run': 2304.0,\n",
       " 'rerun': 301.0,\n",
       " 'camcol': 2.0,\n",
       " 'field': 250.0,\n",
       " 'specobjid': 8.8272315819127e+17,\n",
       " 'class': 'QSO',\n",
       " 'redshift': 1.0754620000000001,\n",
       " 'plate': 784.0,\n",
       " 'mjd': 52327.0,\n",
       " 'fiberid': 64.0}"
      ]
     },
     "execution_count": 7,
     "metadata": {},
     "output_type": "execute_result"
    }
   ],
   "source": [
    "df.iloc[99537].to_dict()"
   ]
  },
  {
   "cell_type": "code",
   "execution_count": 8,
   "metadata": {
    "pycharm": {
     "name": "#%%\n"
    }
   },
   "outputs": [
    {
     "name": "stdout",
     "output_type": "stream",
     "text": [
      "<class 'pandas.core.frame.DataFrame'>\n",
      "RangeIndex: 105000 entries, 0 to 104999\n",
      "Data columns (total 18 columns):\n",
      "objid        104529 non-null float64\n",
      "ra           104497 non-null float64\n",
      "dec          104486 non-null float64\n",
      "u            104547 non-null float64\n",
      "g            104502 non-null float64\n",
      "r            104464 non-null float64\n",
      "i            104494 non-null float64\n",
      "z            104482 non-null float64\n",
      "run          104492 non-null float64\n",
      "rerun        104461 non-null float64\n",
      "camcol       104504 non-null float64\n",
      "field        104524 non-null float64\n",
      "specobjid    104502 non-null float64\n",
      "class        105000 non-null object\n",
      "redshift     104483 non-null float64\n",
      "plate        104490 non-null float64\n",
      "mjd          104497 non-null float64\n",
      "fiberid      104483 non-null float64\n",
      "dtypes: float64(17), object(1)\n",
      "memory usage: 14.4+ MB\n"
     ]
    }
   ],
   "source": [
    "df.info()"
   ]
  },
  {
   "cell_type": "code",
   "execution_count": 9,
   "metadata": {
    "pycharm": {
     "name": "#%%\n"
    }
   },
   "outputs": [
    {
     "data": {
      "text/plain": [
       "Index(['objid', 'ra', 'dec', 'u', 'g', 'r', 'i', 'z', 'run', 'rerun', 'camcol',\n",
       "       'field', 'specobjid', 'class', 'redshift', 'plate', 'mjd', 'fiberid'],\n",
       "      dtype='object')"
      ]
     },
     "execution_count": 9,
     "metadata": {},
     "output_type": "execute_result"
    }
   ],
   "source": [
    "df.shape\n",
    "df.isnull().sum()\n",
    "df.dtypes\n",
    "df.columns"
   ]
  },
  {
   "cell_type": "code",
   "execution_count": 10,
   "metadata": {
    "pycharm": {
     "name": "#%%\n"
    }
   },
   "outputs": [],
   "source": [
    "#dataframe contains null values\n",
    "#Replacing all null values with their respective column mean\n",
    "def drop_null(df):\n",
    "    for i in ['objid', 'ra', 'dec', 'u', 'g', 'r', 'i', 'z', 'run', 'rerun', 'camcol',\n",
    "       'field', 'specobjid', 'redshift', 'plate', 'mjd', 'fiberid']:\n",
    "        df[i] = df[i].fillna(round(df[i].dropna().astype('float64').mean(),2))\n",
    "    return df\n",
    "df=drop_null(df)\n"
   ]
  },
  {
   "cell_type": "code",
   "execution_count": 11,
   "metadata": {
    "pycharm": {
     "name": "#%%\n"
    }
   },
   "outputs": [
    {
     "data": {
      "text/plain": [
       "objid        0\n",
       "ra           0\n",
       "dec          0\n",
       "u            0\n",
       "g            0\n",
       "r            0\n",
       "i            0\n",
       "z            0\n",
       "run          0\n",
       "rerun        0\n",
       "camcol       0\n",
       "field        0\n",
       "specobjid    0\n",
       "class        0\n",
       "redshift     0\n",
       "plate        0\n",
       "mjd          0\n",
       "fiberid      0\n",
       "dtype: int64"
      ]
     },
     "execution_count": 11,
     "metadata": {},
     "output_type": "execute_result"
    }
   ],
   "source": [
    "df.isnull().sum()\n"
   ]
  },
  {
   "cell_type": "code",
   "execution_count": 135,
   "metadata": {
    "pycharm": {
     "name": "#%%\n"
    }
   },
   "outputs": [
    {
     "data": {
      "text/html": [
       "<div>\n",
       "<style scoped>\n",
       "    .dataframe tbody tr th:only-of-type {\n",
       "        vertical-align: middle;\n",
       "    }\n",
       "\n",
       "    .dataframe tbody tr th {\n",
       "        vertical-align: top;\n",
       "    }\n",
       "\n",
       "    .dataframe thead th {\n",
       "        text-align: right;\n",
       "    }\n",
       "</style>\n",
       "<table border=\"1\" class=\"dataframe\">\n",
       "  <thead>\n",
       "    <tr style=\"text-align: right;\">\n",
       "      <th></th>\n",
       "      <th>objid</th>\n",
       "      <th>ra</th>\n",
       "      <th>dec</th>\n",
       "      <th>u</th>\n",
       "      <th>g</th>\n",
       "      <th>r</th>\n",
       "      <th>i</th>\n",
       "      <th>z</th>\n",
       "      <th>run</th>\n",
       "      <th>rerun</th>\n",
       "      <th>camcol</th>\n",
       "      <th>field</th>\n",
       "      <th>specobjid</th>\n",
       "      <th>redshift</th>\n",
       "      <th>plate</th>\n",
       "      <th>mjd</th>\n",
       "      <th>fiberid</th>\n",
       "    </tr>\n",
       "  </thead>\n",
       "  <tbody>\n",
       "    <tr>\n",
       "      <th>count</th>\n",
       "      <td>1.050000e+05</td>\n",
       "      <td>105000.000000</td>\n",
       "      <td>105000.000000</td>\n",
       "      <td>105000.000000</td>\n",
       "      <td>105000.000000</td>\n",
       "      <td>105000.000000</td>\n",
       "      <td>105000.000000</td>\n",
       "      <td>105000.000000</td>\n",
       "      <td>105000.000000</td>\n",
       "      <td>105000.0</td>\n",
       "      <td>105000.000000</td>\n",
       "      <td>105000.000000</td>\n",
       "      <td>1.050000e+05</td>\n",
       "      <td>105000.000000</td>\n",
       "      <td>105000.000000</td>\n",
       "      <td>105000.000000</td>\n",
       "      <td>105000.000000</td>\n",
       "    </tr>\n",
       "    <tr>\n",
       "      <th>mean</th>\n",
       "      <td>1.237663e+18</td>\n",
       "      <td>177.363611</td>\n",
       "      <td>25.077033</td>\n",
       "      <td>18.646141</td>\n",
       "      <td>17.446478</td>\n",
       "      <td>16.933405</td>\n",
       "      <td>16.682452</td>\n",
       "      <td>16.527239</td>\n",
       "      <td>3987.288841</td>\n",
       "      <td>301.0</td>\n",
       "      <td>3.274333</td>\n",
       "      <td>187.085827</td>\n",
       "      <td>2.968232e+18</td>\n",
       "      <td>0.202448</td>\n",
       "      <td>2636.854538</td>\n",
       "      <td>53943.284884</td>\n",
       "      <td>343.309631</td>\n",
       "    </tr>\n",
       "    <tr>\n",
       "      <th>std</th>\n",
       "      <td>7.280802e+12</td>\n",
       "      <td>78.135921</td>\n",
       "      <td>20.499198</td>\n",
       "      <td>0.826905</td>\n",
       "      <td>1.000871</td>\n",
       "      <td>1.155494</td>\n",
       "      <td>1.233747</td>\n",
       "      <td>1.305519</td>\n",
       "      <td>1694.552731</td>\n",
       "      <td>0.0</td>\n",
       "      <td>1.617128</td>\n",
       "      <td>140.564645</td>\n",
       "      <td>2.546272e+18</td>\n",
       "      <td>0.482905</td>\n",
       "      <td>2262.954451</td>\n",
       "      <td>1571.300836</td>\n",
       "      <td>217.924144</td>\n",
       "    </tr>\n",
       "    <tr>\n",
       "      <th>min</th>\n",
       "      <td>1.237646e+18</td>\n",
       "      <td>0.013061</td>\n",
       "      <td>-19.495456</td>\n",
       "      <td>10.611810</td>\n",
       "      <td>9.668339</td>\n",
       "      <td>9.005167</td>\n",
       "      <td>8.848403</td>\n",
       "      <td>8.947795</td>\n",
       "      <td>109.000000</td>\n",
       "      <td>301.0</td>\n",
       "      <td>1.000000</td>\n",
       "      <td>11.000000</td>\n",
       "      <td>2.994897e+17</td>\n",
       "      <td>-0.004136</td>\n",
       "      <td>266.000000</td>\n",
       "      <td>51608.000000</td>\n",
       "      <td>1.000000</td>\n",
       "    </tr>\n",
       "    <tr>\n",
       "      <th>25%</th>\n",
       "      <td>1.237658e+18</td>\n",
       "      <td>136.500300</td>\n",
       "      <td>6.868586</td>\n",
       "      <td>18.231147</td>\n",
       "      <td>16.880595</td>\n",
       "      <td>16.224270</td>\n",
       "      <td>15.893577</td>\n",
       "      <td>15.652465</td>\n",
       "      <td>2830.000000</td>\n",
       "      <td>301.0</td>\n",
       "      <td>2.000000</td>\n",
       "      <td>86.000000</td>\n",
       "      <td>1.342144e+18</td>\n",
       "      <td>0.000009</td>\n",
       "      <td>1192.000000</td>\n",
       "      <td>52736.000000</td>\n",
       "      <td>161.000000</td>\n",
       "    </tr>\n",
       "    <tr>\n",
       "      <th>50%</th>\n",
       "      <td>1.237662e+18</td>\n",
       "      <td>179.876922</td>\n",
       "      <td>24.112833</td>\n",
       "      <td>18.877405</td>\n",
       "      <td>17.538345</td>\n",
       "      <td>16.930000</td>\n",
       "      <td>16.653370</td>\n",
       "      <td>16.486365</td>\n",
       "      <td>3905.000000</td>\n",
       "      <td>301.0</td>\n",
       "      <td>3.000000</td>\n",
       "      <td>153.000000</td>\n",
       "      <td>2.376258e+18</td>\n",
       "      <td>0.049060</td>\n",
       "      <td>2111.000000</td>\n",
       "      <td>53740.000000</td>\n",
       "      <td>330.000000</td>\n",
       "    </tr>\n",
       "    <tr>\n",
       "      <th>75%</th>\n",
       "      <td>1.237667e+18</td>\n",
       "      <td>224.185749</td>\n",
       "      <td>40.286783</td>\n",
       "      <td>19.276880</td>\n",
       "      <td>18.096740</td>\n",
       "      <td>17.644092</td>\n",
       "      <td>17.412733</td>\n",
       "      <td>17.314640</td>\n",
       "      <td>5061.000000</td>\n",
       "      <td>301.0</td>\n",
       "      <td>5.000000</td>\n",
       "      <td>249.000000</td>\n",
       "      <td>3.308051e+18</td>\n",
       "      <td>0.103042</td>\n",
       "      <td>2938.000000</td>\n",
       "      <td>54612.000000</td>\n",
       "      <td>504.000000</td>\n",
       "    </tr>\n",
       "    <tr>\n",
       "      <th>max</th>\n",
       "      <td>1.237681e+18</td>\n",
       "      <td>359.999615</td>\n",
       "      <td>84.490494</td>\n",
       "      <td>19.599950</td>\n",
       "      <td>19.996050</td>\n",
       "      <td>31.990100</td>\n",
       "      <td>32.141470</td>\n",
       "      <td>29.383740</td>\n",
       "      <td>8162.000000</td>\n",
       "      <td>301.0</td>\n",
       "      <td>6.000000</td>\n",
       "      <td>982.000000</td>\n",
       "      <td>1.317645e+19</td>\n",
       "      <td>7.011245</td>\n",
       "      <td>11703.000000</td>\n",
       "      <td>58543.000000</td>\n",
       "      <td>1000.000000</td>\n",
       "    </tr>\n",
       "  </tbody>\n",
       "</table>\n",
       "</div>"
      ],
      "text/plain": [
       "              objid             ra            dec              u  \\\n",
       "count  1.050000e+05  105000.000000  105000.000000  105000.000000   \n",
       "mean   1.237663e+18     177.363611      25.077033      18.646141   \n",
       "std    7.280802e+12      78.135921      20.499198       0.826905   \n",
       "min    1.237646e+18       0.013061     -19.495456      10.611810   \n",
       "25%    1.237658e+18     136.500300       6.868586      18.231147   \n",
       "50%    1.237662e+18     179.876922      24.112833      18.877405   \n",
       "75%    1.237667e+18     224.185749      40.286783      19.276880   \n",
       "max    1.237681e+18     359.999615      84.490494      19.599950   \n",
       "\n",
       "                   g              r              i              z  \\\n",
       "count  105000.000000  105000.000000  105000.000000  105000.000000   \n",
       "mean       17.446478      16.933405      16.682452      16.527239   \n",
       "std         1.000871       1.155494       1.233747       1.305519   \n",
       "min         9.668339       9.005167       8.848403       8.947795   \n",
       "25%        16.880595      16.224270      15.893577      15.652465   \n",
       "50%        17.538345      16.930000      16.653370      16.486365   \n",
       "75%        18.096740      17.644092      17.412733      17.314640   \n",
       "max        19.996050      31.990100      32.141470      29.383740   \n",
       "\n",
       "                 run     rerun         camcol          field     specobjid  \\\n",
       "count  105000.000000  105000.0  105000.000000  105000.000000  1.050000e+05   \n",
       "mean     3987.288841     301.0       3.274333     187.085827  2.968232e+18   \n",
       "std      1694.552731       0.0       1.617128     140.564645  2.546272e+18   \n",
       "min       109.000000     301.0       1.000000      11.000000  2.994897e+17   \n",
       "25%      2830.000000     301.0       2.000000      86.000000  1.342144e+18   \n",
       "50%      3905.000000     301.0       3.000000     153.000000  2.376258e+18   \n",
       "75%      5061.000000     301.0       5.000000     249.000000  3.308051e+18   \n",
       "max      8162.000000     301.0       6.000000     982.000000  1.317645e+19   \n",
       "\n",
       "            redshift          plate            mjd        fiberid  \n",
       "count  105000.000000  105000.000000  105000.000000  105000.000000  \n",
       "mean        0.202448    2636.854538   53943.284884     343.309631  \n",
       "std         0.482905    2262.954451    1571.300836     217.924144  \n",
       "min        -0.004136     266.000000   51608.000000       1.000000  \n",
       "25%         0.000009    1192.000000   52736.000000     161.000000  \n",
       "50%         0.049060    2111.000000   53740.000000     330.000000  \n",
       "75%         0.103042    2938.000000   54612.000000     504.000000  \n",
       "max         7.011245   11703.000000   58543.000000    1000.000000  "
      ]
     },
     "execution_count": 135,
     "metadata": {},
     "output_type": "execute_result"
    }
   ],
   "source": [
    "#Data descripition\n",
    "df.describe()"
   ]
  },
  {
   "cell_type": "code",
   "execution_count": 136,
   "metadata": {
    "pycharm": {
     "name": "#%%\n"
    }
   },
   "outputs": [
    {
     "data": {
      "text/plain": [
       "array([301.])"
      ]
     },
     "execution_count": 136,
     "metadata": {},
     "output_type": "execute_result"
    }
   ],
   "source": [
    "df['rerun'].unique()"
   ]
  },
  {
   "cell_type": "code",
   "execution_count": 137,
   "metadata": {
    "pycharm": {
     "name": "#%%\n"
    }
   },
   "outputs": [],
   "source": [
    "#Histogram plots\n"
   ]
  },
  {
   "cell_type": "code",
   "execution_count": 138,
   "metadata": {
    "pycharm": {
     "name": "#%%\n"
    }
   },
   "outputs": [],
   "source": [
    "#less unique values\n",
    "data=df.drop(['rerun'], axis = 1)"
   ]
  },
  {
   "cell_type": "code",
   "execution_count": 139,
   "metadata": {
    "pycharm": {
     "name": "#%%\n"
    }
   },
   "outputs": [
    {
     "data": {
      "text/html": [
       "<div>\n",
       "<style scoped>\n",
       "    .dataframe tbody tr th:only-of-type {\n",
       "        vertical-align: middle;\n",
       "    }\n",
       "\n",
       "    .dataframe tbody tr th {\n",
       "        vertical-align: top;\n",
       "    }\n",
       "\n",
       "    .dataframe thead th {\n",
       "        text-align: right;\n",
       "    }\n",
       "</style>\n",
       "<table border=\"1\" class=\"dataframe\">\n",
       "  <thead>\n",
       "    <tr style=\"text-align: right;\">\n",
       "      <th></th>\n",
       "      <th>objid</th>\n",
       "      <th>ra</th>\n",
       "      <th>dec</th>\n",
       "      <th>u</th>\n",
       "      <th>g</th>\n",
       "      <th>r</th>\n",
       "      <th>i</th>\n",
       "      <th>z</th>\n",
       "      <th>run</th>\n",
       "      <th>camcol</th>\n",
       "      <th>field</th>\n",
       "      <th>specobjid</th>\n",
       "      <th>class</th>\n",
       "      <th>redshift</th>\n",
       "      <th>plate</th>\n",
       "      <th>mjd</th>\n",
       "      <th>fiberid</th>\n",
       "    </tr>\n",
       "  </thead>\n",
       "  <tbody>\n",
       "    <tr>\n",
       "      <th>0</th>\n",
       "      <td>1.237658e+18</td>\n",
       "      <td>122.472536</td>\n",
       "      <td>29.477546</td>\n",
       "      <td>18.80104</td>\n",
       "      <td>18.79409</td>\n",
       "      <td>19.17904</td>\n",
       "      <td>19.46893</td>\n",
       "      <td>19.62121</td>\n",
       "      <td>2830.0</td>\n",
       "      <td>1.0</td>\n",
       "      <td>82.0</td>\n",
       "      <td>5.011614e+18</td>\n",
       "      <td>STAR</td>\n",
       "      <td>0.000113</td>\n",
       "      <td>4451.0</td>\n",
       "      <td>55537.0</td>\n",
       "      <td>848.0</td>\n",
       "    </tr>\n",
       "    <tr>\n",
       "      <th>1</th>\n",
       "      <td>1.237661e+18</td>\n",
       "      <td>157.220491</td>\n",
       "      <td>38.044462</td>\n",
       "      <td>19.21634</td>\n",
       "      <td>17.36450</td>\n",
       "      <td>16.39222</td>\n",
       "      <td>15.96160</td>\n",
       "      <td>15.62490</td>\n",
       "      <td>3647.0</td>\n",
       "      <td>1.0</td>\n",
       "      <td>123.0</td>\n",
       "      <td>1.607801e+18</td>\n",
       "      <td>GALAXY</td>\n",
       "      <td>0.107083</td>\n",
       "      <td>1428.0</td>\n",
       "      <td>52998.0</td>\n",
       "      <td>56.0</td>\n",
       "    </tr>\n",
       "    <tr>\n",
       "      <th>2</th>\n",
       "      <td>1.237665e+18</td>\n",
       "      <td>128.426499</td>\n",
       "      <td>22.244187</td>\n",
       "      <td>17.58285</td>\n",
       "      <td>16.66683</td>\n",
       "      <td>16.37511</td>\n",
       "      <td>16.23573</td>\n",
       "      <td>16.03283</td>\n",
       "      <td>4517.0</td>\n",
       "      <td>2.0</td>\n",
       "      <td>113.0</td>\n",
       "      <td>2.171901e+18</td>\n",
       "      <td>GALAXY</td>\n",
       "      <td>0.024777</td>\n",
       "      <td>1929.0</td>\n",
       "      <td>53349.0</td>\n",
       "      <td>144.0</td>\n",
       "    </tr>\n",
       "    <tr>\n",
       "      <th>3</th>\n",
       "      <td>1.237655e+18</td>\n",
       "      <td>148.311910</td>\n",
       "      <td>3.603649</td>\n",
       "      <td>19.49339</td>\n",
       "      <td>18.02611</td>\n",
       "      <td>17.21924</td>\n",
       "      <td>16.73868</td>\n",
       "      <td>16.43414</td>\n",
       "      <td>2125.0</td>\n",
       "      <td>3.0</td>\n",
       "      <td>197.0</td>\n",
       "      <td>6.429279e+17</td>\n",
       "      <td>GALAXY</td>\n",
       "      <td>0.091564</td>\n",
       "      <td>571.0</td>\n",
       "      <td>52286.0</td>\n",
       "      <td>142.0</td>\n",
       "    </tr>\n",
       "    <tr>\n",
       "      <th>4</th>\n",
       "      <td>1.237649e+18</td>\n",
       "      <td>188.615906</td>\n",
       "      <td>0.966501</td>\n",
       "      <td>19.11787</td>\n",
       "      <td>18.80892</td>\n",
       "      <td>18.65386</td>\n",
       "      <td>18.43037</td>\n",
       "      <td>18.44886</td>\n",
       "      <td>752.0</td>\n",
       "      <td>6.0</td>\n",
       "      <td>301.0</td>\n",
       "      <td>3.266113e+17</td>\n",
       "      <td>QSO</td>\n",
       "      <td>1.528742</td>\n",
       "      <td>290.0</td>\n",
       "      <td>51941.0</td>\n",
       "      <td>365.0</td>\n",
       "    </tr>\n",
       "  </tbody>\n",
       "</table>\n",
       "</div>"
      ],
      "text/plain": [
       "          objid          ra        dec         u         g         r  \\\n",
       "0  1.237658e+18  122.472536  29.477546  18.80104  18.79409  19.17904   \n",
       "1  1.237661e+18  157.220491  38.044462  19.21634  17.36450  16.39222   \n",
       "2  1.237665e+18  128.426499  22.244187  17.58285  16.66683  16.37511   \n",
       "3  1.237655e+18  148.311910   3.603649  19.49339  18.02611  17.21924   \n",
       "4  1.237649e+18  188.615906   0.966501  19.11787  18.80892  18.65386   \n",
       "\n",
       "          i         z     run  camcol  field     specobjid   class  redshift  \\\n",
       "0  19.46893  19.62121  2830.0     1.0   82.0  5.011614e+18    STAR  0.000113   \n",
       "1  15.96160  15.62490  3647.0     1.0  123.0  1.607801e+18  GALAXY  0.107083   \n",
       "2  16.23573  16.03283  4517.0     2.0  113.0  2.171901e+18  GALAXY  0.024777   \n",
       "3  16.73868  16.43414  2125.0     3.0  197.0  6.429279e+17  GALAXY  0.091564   \n",
       "4  18.43037  18.44886   752.0     6.0  301.0  3.266113e+17     QSO  1.528742   \n",
       "\n",
       "    plate      mjd  fiberid  \n",
       "0  4451.0  55537.0    848.0  \n",
       "1  1428.0  52998.0     56.0  \n",
       "2  1929.0  53349.0    144.0  \n",
       "3   571.0  52286.0    142.0  \n",
       "4   290.0  51941.0    365.0  "
      ]
     },
     "execution_count": 139,
     "metadata": {},
     "output_type": "execute_result"
    }
   ],
   "source": [
    "data.nunique()\n",
    "data.head()"
   ]
  },
  {
   "cell_type": "code",
   "execution_count": 140,
   "metadata": {
    "pycharm": {
     "name": "#%%\n"
    }
   },
   "outputs": [
    {
     "data": {
      "text/plain": [
       "(105000, 17)"
      ]
     },
     "execution_count": 140,
     "metadata": {},
     "output_type": "execute_result"
    }
   ],
   "source": [
    "\n",
    "data.shape"
   ]
  },
  {
   "cell_type": "code",
   "execution_count": 141,
   "metadata": {
    "pycharm": {
     "name": "#%%\n"
    }
   },
   "outputs": [
    {
     "name": "stdout",
     "output_type": "stream",
     "text": [
      "64.71619047619048\n",
      "95.23714285714286\n",
      "95.23714285714286\n",
      "76.03904761904762\n",
      "81.8047619047619\n",
      "83.78095238095239\n",
      "84.40380952380953\n",
      "85.19142857142857\n",
      "0.49238095238095236\n",
      "0.006666666666666667\n",
      "0.800952380952381\n",
      "95.23904761904762\n",
      "0.002857142857142857\n",
      "94.5704761904762\n",
      "5.826666666666667\n",
      "2.064761904761905\n",
      "0.9533333333333333\n"
     ]
    }
   ],
   "source": [
    "from numpy import unique\n",
    "\n",
    "data_clean = data.values.astype(str)\n",
    "# summarize the number of unique values in each column\n",
    "for i in range(data_clean.shape[1]):\n",
    "    num = len(unique(data_clean[:, i]))\n",
    "    percentage = float(num) / data_clean.shape[0] * 100\n",
    "    print(percentage)"
   ]
  },
  {
   "cell_type": "code",
   "execution_count": 142,
   "metadata": {
    "pycharm": {
     "name": "#%%\n"
    }
   },
   "outputs": [
    {
     "data": {
      "text/html": [
       "<div>\n",
       "<style scoped>\n",
       "    .dataframe tbody tr th:only-of-type {\n",
       "        vertical-align: middle;\n",
       "    }\n",
       "\n",
       "    .dataframe tbody tr th {\n",
       "        vertical-align: top;\n",
       "    }\n",
       "\n",
       "    .dataframe thead th {\n",
       "        text-align: right;\n",
       "    }\n",
       "</style>\n",
       "<table border=\"1\" class=\"dataframe\">\n",
       "  <thead>\n",
       "    <tr style=\"text-align: right;\">\n",
       "      <th></th>\n",
       "      <th>objid</th>\n",
       "      <th>ra</th>\n",
       "      <th>dec</th>\n",
       "      <th>u</th>\n",
       "      <th>g</th>\n",
       "      <th>r</th>\n",
       "      <th>i</th>\n",
       "      <th>z</th>\n",
       "      <th>run</th>\n",
       "      <th>camcol</th>\n",
       "      <th>field</th>\n",
       "      <th>specobjid</th>\n",
       "      <th>class</th>\n",
       "      <th>redshift</th>\n",
       "      <th>plate</th>\n",
       "      <th>mjd</th>\n",
       "      <th>fiberid</th>\n",
       "    </tr>\n",
       "  </thead>\n",
       "  <tbody>\n",
       "    <tr>\n",
       "      <th>0</th>\n",
       "      <td>1.237658e+18</td>\n",
       "      <td>122.472536</td>\n",
       "      <td>29.477546</td>\n",
       "      <td>18.80104</td>\n",
       "      <td>18.79409</td>\n",
       "      <td>19.17904</td>\n",
       "      <td>19.46893</td>\n",
       "      <td>19.62121</td>\n",
       "      <td>2830.0</td>\n",
       "      <td>1.0</td>\n",
       "      <td>82.0</td>\n",
       "      <td>5.011614e+18</td>\n",
       "      <td>STAR</td>\n",
       "      <td>0.000113</td>\n",
       "      <td>4451.0</td>\n",
       "      <td>55537.0</td>\n",
       "      <td>848.0</td>\n",
       "    </tr>\n",
       "    <tr>\n",
       "      <th>1</th>\n",
       "      <td>1.237661e+18</td>\n",
       "      <td>157.220491</td>\n",
       "      <td>38.044462</td>\n",
       "      <td>19.21634</td>\n",
       "      <td>17.36450</td>\n",
       "      <td>16.39222</td>\n",
       "      <td>15.96160</td>\n",
       "      <td>15.62490</td>\n",
       "      <td>3647.0</td>\n",
       "      <td>1.0</td>\n",
       "      <td>123.0</td>\n",
       "      <td>1.607801e+18</td>\n",
       "      <td>GALAXY</td>\n",
       "      <td>0.107083</td>\n",
       "      <td>1428.0</td>\n",
       "      <td>52998.0</td>\n",
       "      <td>56.0</td>\n",
       "    </tr>\n",
       "    <tr>\n",
       "      <th>2</th>\n",
       "      <td>1.237665e+18</td>\n",
       "      <td>128.426499</td>\n",
       "      <td>22.244187</td>\n",
       "      <td>17.58285</td>\n",
       "      <td>16.66683</td>\n",
       "      <td>16.37511</td>\n",
       "      <td>16.23573</td>\n",
       "      <td>16.03283</td>\n",
       "      <td>4517.0</td>\n",
       "      <td>2.0</td>\n",
       "      <td>113.0</td>\n",
       "      <td>2.171901e+18</td>\n",
       "      <td>GALAXY</td>\n",
       "      <td>0.024777</td>\n",
       "      <td>1929.0</td>\n",
       "      <td>53349.0</td>\n",
       "      <td>144.0</td>\n",
       "    </tr>\n",
       "    <tr>\n",
       "      <th>3</th>\n",
       "      <td>1.237655e+18</td>\n",
       "      <td>148.311910</td>\n",
       "      <td>3.603649</td>\n",
       "      <td>19.49339</td>\n",
       "      <td>18.02611</td>\n",
       "      <td>17.21924</td>\n",
       "      <td>16.73868</td>\n",
       "      <td>16.43414</td>\n",
       "      <td>2125.0</td>\n",
       "      <td>3.0</td>\n",
       "      <td>197.0</td>\n",
       "      <td>6.429279e+17</td>\n",
       "      <td>GALAXY</td>\n",
       "      <td>0.091564</td>\n",
       "      <td>571.0</td>\n",
       "      <td>52286.0</td>\n",
       "      <td>142.0</td>\n",
       "    </tr>\n",
       "    <tr>\n",
       "      <th>4</th>\n",
       "      <td>1.237649e+18</td>\n",
       "      <td>188.615906</td>\n",
       "      <td>0.966501</td>\n",
       "      <td>19.11787</td>\n",
       "      <td>18.80892</td>\n",
       "      <td>18.65386</td>\n",
       "      <td>18.43037</td>\n",
       "      <td>18.44886</td>\n",
       "      <td>752.0</td>\n",
       "      <td>6.0</td>\n",
       "      <td>301.0</td>\n",
       "      <td>3.266113e+17</td>\n",
       "      <td>QSO</td>\n",
       "      <td>1.528742</td>\n",
       "      <td>290.0</td>\n",
       "      <td>51941.0</td>\n",
       "      <td>365.0</td>\n",
       "    </tr>\n",
       "  </tbody>\n",
       "</table>\n",
       "</div>"
      ],
      "text/plain": [
       "          objid          ra        dec         u         g         r  \\\n",
       "0  1.237658e+18  122.472536  29.477546  18.80104  18.79409  19.17904   \n",
       "1  1.237661e+18  157.220491  38.044462  19.21634  17.36450  16.39222   \n",
       "2  1.237665e+18  128.426499  22.244187  17.58285  16.66683  16.37511   \n",
       "3  1.237655e+18  148.311910   3.603649  19.49339  18.02611  17.21924   \n",
       "4  1.237649e+18  188.615906   0.966501  19.11787  18.80892  18.65386   \n",
       "\n",
       "          i         z     run  camcol  field     specobjid   class  redshift  \\\n",
       "0  19.46893  19.62121  2830.0     1.0   82.0  5.011614e+18    STAR  0.000113   \n",
       "1  15.96160  15.62490  3647.0     1.0  123.0  1.607801e+18  GALAXY  0.107083   \n",
       "2  16.23573  16.03283  4517.0     2.0  113.0  2.171901e+18  GALAXY  0.024777   \n",
       "3  16.73868  16.43414  2125.0     3.0  197.0  6.429279e+17  GALAXY  0.091564   \n",
       "4  18.43037  18.44886   752.0     6.0  301.0  3.266113e+17     QSO  1.528742   \n",
       "\n",
       "    plate      mjd  fiberid  \n",
       "0  4451.0  55537.0    848.0  \n",
       "1  1428.0  52998.0     56.0  \n",
       "2  1929.0  53349.0    144.0  \n",
       "3   571.0  52286.0    142.0  \n",
       "4   290.0  51941.0    365.0  "
      ]
     },
     "execution_count": 142,
     "metadata": {},
     "output_type": "execute_result"
    }
   ],
   "source": [
    "#remove duplicated rows\n",
    "def duplicated_remove(df):\n",
    "    dups = df.duplicated()\n",
    "    df.drop_duplicates(inplace=True)\n",
    "    # We have to reset indexes because our dataframe still having previous indexes after dropping rows\n",
    "    df=df.reset_index(drop=True)\n",
    "    return df\n",
    "data=duplicated_remove(data)\n",
    "data.head()"
   ]
  },
  {
   "cell_type": "code",
   "execution_count": null,
   "metadata": {
    "pycharm": {
     "name": "#%%\n"
    }
   },
   "outputs": [],
   "source": []
  },
  {
   "cell_type": "code",
   "execution_count": 143,
   "metadata": {
    "pycharm": {
     "name": "#%%\n"
    }
   },
   "outputs": [
    {
     "data": {
      "image/png": "[encoded data removed]",
      "text/plain": [
       "<Figure size 1800x3960 with 1 Axes>"
      ]
     },
     "metadata": {
      "needs_background": "light"
     },
     "output_type": "display_data"
    }
   ],
   "source": [
    "#Checking for outliers'\n",
    "fig, ax = plt.subplots(figsize=(25, 55))\n",
    "sns.boxplot(data=data, orient=\"v\", palette=\"Set2\",ax=ax );"
   ]
  },
  {
   "cell_type": "code",
   "execution_count": 144,
   "metadata": {
    "pycharm": {
     "name": "#%%\n"
    }
   },
   "outputs": [
    {
     "data": {
      "image/png": "[encoded data removed]",
      "text/plain": [
       "<Figure size 432x288 with 1 Axes>"
      ]
     },
     "metadata": {
      "needs_background": "light"
     },
     "output_type": "display_data"
    }
   ],
   "source": [
    "data.boxplot(column=['specobjid']);"
   ]
  },
  {
   "cell_type": "code",
   "execution_count": 145,
   "metadata": {
    "pycharm": {
     "name": "#%%\n"
    }
   },
   "outputs": [
    {
     "data": {
      "image/png": "[encoded data removed]",
      "text/plain": [
       "<Figure size 432x288 with 1 Axes>"
      ]
     },
     "metadata": {
      "needs_background": "light"
     },
     "output_type": "display_data"
    }
   ],
   "source": [
    "data.boxplot(column=['ra']);"
   ]
  },
  {
   "cell_type": "code",
   "execution_count": 146,
   "metadata": {
    "pycharm": {
     "name": "#%%\n"
    }
   },
   "outputs": [
    {
     "data": {
      "text/plain": [
       "<matplotlib.axes._subplots.AxesSubplot at 0x21440231588>"
      ]
     },
     "execution_count": 146,
     "metadata": {},
     "output_type": "execute_result"
    },
    {
     "data": {
      "image/png": "[encoded data removed]",
      "text/plain": [
       "<Figure size 432x288 with 2 Axes>"
      ]
     },
     "metadata": {
      "needs_background": "light"
     },
     "output_type": "display_data"
    }
   ],
   "source": [
    "sns.heatmap(data.corr(),cmap='coolwarm')"
   ]
  },
  {
   "cell_type": "code",
   "execution_count": 147,
   "metadata": {
    "pycharm": {
     "name": "#%%\n"
    }
   },
   "outputs": [],
   "source": [
    "# Didn't find much outliers\n"
   ]
  },
  {
   "cell_type": "code",
   "execution_count": 148,
   "metadata": {
    "pycharm": {
     "name": "#%%\n"
    }
   },
   "outputs": [
    {
     "name": "stdout",
     "output_type": "stream",
     "text": [
      "GALAXY    51323\n",
      "STAR      39066\n",
      "QSO       13697\n",
      "Name: class, dtype: int64\n"
     ]
    },
    {
     "data": {
      "image/png": "[encoded data removed]",
      "text/plain": [
       "<Figure size 432x288 with 1 Axes>"
      ]
     },
     "metadata": {
      "needs_background": "light"
     },
     "output_type": "display_data"
    }
   ],
   "source": [
    "#Separating Target and features\n",
    "#class distribution\n",
    "features_df= data.drop('class', 1)\n",
    "target_df = pd.DataFrame(data['class'], columns=[\"class\"])\n",
    "target_df['class'].value_counts().plot.bar()\n",
    "print (target_df['class'].value_counts())\n"
   ]
  },
  {
   "cell_type": "code",
   "execution_count": 149,
   "metadata": {
    "pycharm": {
     "name": "#%%\n"
    }
   },
   "outputs": [
    {
     "name": "stdout",
     "output_type": "stream",
     "text": [
      "(array([0, 1, 1, ..., 0, 1, 2], dtype=int64), Index(['STAR', 'GALAXY', 'QSO'], dtype='object'))\n",
      "Index(['STAR', 'GALAXY', 'QSO'], dtype='object')\n"
     ]
    }
   ],
   "source": [
    "factor = pd.factorize(target_df['class'])\n",
    "print (factor)\n",
    "target_df['class'] = factor[0]\n",
    "definitions = factor[1]\n",
    "print (definitions)"
   ]
  },
  {
   "cell_type": "code",
   "execution_count": 150,
   "metadata": {
    "pycharm": {
     "name": "#%%\n"
    }
   },
   "outputs": [
    {
     "data": {
      "text/html": [
       "<div>\n",
       "<style scoped>\n",
       "    .dataframe tbody tr th:only-of-type {\n",
       "        vertical-align: middle;\n",
       "    }\n",
       "\n",
       "    .dataframe tbody tr th {\n",
       "        vertical-align: top;\n",
       "    }\n",
       "\n",
       "    .dataframe thead th {\n",
       "        text-align: right;\n",
       "    }\n",
       "</style>\n",
       "<table border=\"1\" class=\"dataframe\">\n",
       "  <thead>\n",
       "    <tr style=\"text-align: right;\">\n",
       "      <th></th>\n",
       "      <th>class</th>\n",
       "    </tr>\n",
       "  </thead>\n",
       "  <tbody>\n",
       "    <tr>\n",
       "      <th>71900</th>\n",
       "      <td>1</td>\n",
       "    </tr>\n",
       "    <tr>\n",
       "      <th>99537</th>\n",
       "      <td>2</td>\n",
       "    </tr>\n",
       "    <tr>\n",
       "      <th>83585</th>\n",
       "      <td>1</td>\n",
       "    </tr>\n",
       "    <tr>\n",
       "      <th>29188</th>\n",
       "      <td>1</td>\n",
       "    </tr>\n",
       "    <tr>\n",
       "      <th>92136</th>\n",
       "      <td>1</td>\n",
       "    </tr>\n",
       "    <tr>\n",
       "      <th>38276</th>\n",
       "      <td>1</td>\n",
       "    </tr>\n",
       "    <tr>\n",
       "      <th>103193</th>\n",
       "      <td>1</td>\n",
       "    </tr>\n",
       "    <tr>\n",
       "      <th>72971</th>\n",
       "      <td>2</td>\n",
       "    </tr>\n",
       "    <tr>\n",
       "      <th>16434</th>\n",
       "      <td>0</td>\n",
       "    </tr>\n",
       "    <tr>\n",
       "      <th>41087</th>\n",
       "      <td>1</td>\n",
       "    </tr>\n",
       "    <tr>\n",
       "      <th>54714</th>\n",
       "      <td>1</td>\n",
       "    </tr>\n",
       "    <tr>\n",
       "      <th>77311</th>\n",
       "      <td>2</td>\n",
       "    </tr>\n",
       "    <tr>\n",
       "      <th>45134</th>\n",
       "      <td>0</td>\n",
       "    </tr>\n",
       "    <tr>\n",
       "      <th>46941</th>\n",
       "      <td>1</td>\n",
       "    </tr>\n",
       "    <tr>\n",
       "      <th>55698</th>\n",
       "      <td>1</td>\n",
       "    </tr>\n",
       "    <tr>\n",
       "      <th>46967</th>\n",
       "      <td>0</td>\n",
       "    </tr>\n",
       "    <tr>\n",
       "      <th>3641</th>\n",
       "      <td>1</td>\n",
       "    </tr>\n",
       "    <tr>\n",
       "      <th>93143</th>\n",
       "      <td>1</td>\n",
       "    </tr>\n",
       "    <tr>\n",
       "      <th>58536</th>\n",
       "      <td>1</td>\n",
       "    </tr>\n",
       "    <tr>\n",
       "      <th>77124</th>\n",
       "      <td>1</td>\n",
       "    </tr>\n",
       "    <tr>\n",
       "      <th>92063</th>\n",
       "      <td>1</td>\n",
       "    </tr>\n",
       "    <tr>\n",
       "      <th>52032</th>\n",
       "      <td>1</td>\n",
       "    </tr>\n",
       "    <tr>\n",
       "      <th>93324</th>\n",
       "      <td>1</td>\n",
       "    </tr>\n",
       "    <tr>\n",
       "      <th>48971</th>\n",
       "      <td>1</td>\n",
       "    </tr>\n",
       "    <tr>\n",
       "      <th>73063</th>\n",
       "      <td>1</td>\n",
       "    </tr>\n",
       "    <tr>\n",
       "      <th>4271</th>\n",
       "      <td>1</td>\n",
       "    </tr>\n",
       "    <tr>\n",
       "      <th>62502</th>\n",
       "      <td>1</td>\n",
       "    </tr>\n",
       "    <tr>\n",
       "      <th>1221</th>\n",
       "      <td>1</td>\n",
       "    </tr>\n",
       "    <tr>\n",
       "      <th>90714</th>\n",
       "      <td>1</td>\n",
       "    </tr>\n",
       "    <tr>\n",
       "      <th>33299</th>\n",
       "      <td>0</td>\n",
       "    </tr>\n",
       "    <tr>\n",
       "      <th>...</th>\n",
       "      <td>...</td>\n",
       "    </tr>\n",
       "    <tr>\n",
       "      <th>18488</th>\n",
       "      <td>0</td>\n",
       "    </tr>\n",
       "    <tr>\n",
       "      <th>95104</th>\n",
       "      <td>1</td>\n",
       "    </tr>\n",
       "    <tr>\n",
       "      <th>6239</th>\n",
       "      <td>1</td>\n",
       "    </tr>\n",
       "    <tr>\n",
       "      <th>94206</th>\n",
       "      <td>2</td>\n",
       "    </tr>\n",
       "    <tr>\n",
       "      <th>22688</th>\n",
       "      <td>1</td>\n",
       "    </tr>\n",
       "    <tr>\n",
       "      <th>82524</th>\n",
       "      <td>1</td>\n",
       "    </tr>\n",
       "    <tr>\n",
       "      <th>40574</th>\n",
       "      <td>1</td>\n",
       "    </tr>\n",
       "    <tr>\n",
       "      <th>52384</th>\n",
       "      <td>1</td>\n",
       "    </tr>\n",
       "    <tr>\n",
       "      <th>16533</th>\n",
       "      <td>1</td>\n",
       "    </tr>\n",
       "    <tr>\n",
       "      <th>43151</th>\n",
       "      <td>1</td>\n",
       "    </tr>\n",
       "    <tr>\n",
       "      <th>81203</th>\n",
       "      <td>0</td>\n",
       "    </tr>\n",
       "    <tr>\n",
       "      <th>55226</th>\n",
       "      <td>2</td>\n",
       "    </tr>\n",
       "    <tr>\n",
       "      <th>65039</th>\n",
       "      <td>0</td>\n",
       "    </tr>\n",
       "    <tr>\n",
       "      <th>50227</th>\n",
       "      <td>1</td>\n",
       "    </tr>\n",
       "    <tr>\n",
       "      <th>27516</th>\n",
       "      <td>1</td>\n",
       "    </tr>\n",
       "    <tr>\n",
       "      <th>19315</th>\n",
       "      <td>0</td>\n",
       "    </tr>\n",
       "    <tr>\n",
       "      <th>6134</th>\n",
       "      <td>1</td>\n",
       "    </tr>\n",
       "    <tr>\n",
       "      <th>71049</th>\n",
       "      <td>0</td>\n",
       "    </tr>\n",
       "    <tr>\n",
       "      <th>12242</th>\n",
       "      <td>1</td>\n",
       "    </tr>\n",
       "    <tr>\n",
       "      <th>102698</th>\n",
       "      <td>1</td>\n",
       "    </tr>\n",
       "    <tr>\n",
       "      <th>81047</th>\n",
       "      <td>1</td>\n",
       "    </tr>\n",
       "    <tr>\n",
       "      <th>62782</th>\n",
       "      <td>0</td>\n",
       "    </tr>\n",
       "    <tr>\n",
       "      <th>46442</th>\n",
       "      <td>1</td>\n",
       "    </tr>\n",
       "    <tr>\n",
       "      <th>15797</th>\n",
       "      <td>0</td>\n",
       "    </tr>\n",
       "    <tr>\n",
       "      <th>59386</th>\n",
       "      <td>0</td>\n",
       "    </tr>\n",
       "    <tr>\n",
       "      <th>96211</th>\n",
       "      <td>0</td>\n",
       "    </tr>\n",
       "    <tr>\n",
       "      <th>35606</th>\n",
       "      <td>0</td>\n",
       "    </tr>\n",
       "    <tr>\n",
       "      <th>8036</th>\n",
       "      <td>0</td>\n",
       "    </tr>\n",
       "    <tr>\n",
       "      <th>77398</th>\n",
       "      <td>2</td>\n",
       "    </tr>\n",
       "    <tr>\n",
       "      <th>16220</th>\n",
       "      <td>2</td>\n",
       "    </tr>\n",
       "  </tbody>\n",
       "</table>\n",
       "<p>20818 rows × 1 columns</p>\n",
       "</div>"
      ],
      "text/plain": [
       "        class\n",
       "71900       1\n",
       "99537       2\n",
       "83585       1\n",
       "29188       1\n",
       "92136       1\n",
       "38276       1\n",
       "103193      1\n",
       "72971       2\n",
       "16434       0\n",
       "41087       1\n",
       "54714       1\n",
       "77311       2\n",
       "45134       0\n",
       "46941       1\n",
       "55698       1\n",
       "46967       0\n",
       "3641        1\n",
       "93143       1\n",
       "58536       1\n",
       "77124       1\n",
       "92063       1\n",
       "52032       1\n",
       "93324       1\n",
       "48971       1\n",
       "73063       1\n",
       "4271        1\n",
       "62502       1\n",
       "1221        1\n",
       "90714       1\n",
       "33299       0\n",
       "...       ...\n",
       "18488       0\n",
       "95104       1\n",
       "6239        1\n",
       "94206       2\n",
       "22688       1\n",
       "82524       1\n",
       "40574       1\n",
       "52384       1\n",
       "16533       1\n",
       "43151       1\n",
       "81203       0\n",
       "55226       2\n",
       "65039       0\n",
       "50227       1\n",
       "27516       1\n",
       "19315       0\n",
       "6134        1\n",
       "71049       0\n",
       "12242       1\n",
       "102698      1\n",
       "81047       1\n",
       "62782       0\n",
       "46442       1\n",
       "15797       0\n",
       "59386       0\n",
       "96211       0\n",
       "35606       0\n",
       "8036        0\n",
       "77398       2\n",
       "16220       2\n",
       "\n",
       "[20818 rows x 1 columns]"
      ]
     },
     "execution_count": 150,
     "metadata": {},
     "output_type": "execute_result"
    }
   ],
   "source": [
    "#split the datasets into train and test\n",
    "\n",
    "from sklearn.model_selection import train_test_split\n",
    "X_train, X_test, y_train, y_test = train_test_split(features_df, target_df, test_size = 0.2, random_state = 101)\n",
    "y_test"
   ]
  },
  {
   "cell_type": "code",
   "execution_count": 151,
   "metadata": {
    "pycharm": {
     "name": "#%%\n"
    }
   },
   "outputs": [],
   "source": [
    "#Reset the index\n",
    "#X_train=X_train.reset_index(drop=True)\n",
    "#X_test=X_test.reset_index(drop=True)\n",
    "#y_train=y_train.reset_index(drop=True)\n",
    "#y_test=y_test.reset_index(drop=True)"
   ]
  },
  {
   "cell_type": "code",
   "execution_count": 152,
   "metadata": {
    "pycharm": {
     "name": "#%%\n"
    }
   },
   "outputs": [
    {
     "data": {
      "text/html": [
       "<div>\n",
       "<style scoped>\n",
       "    .dataframe tbody tr th:only-of-type {\n",
       "        vertical-align: middle;\n",
       "    }\n",
       "\n",
       "    .dataframe tbody tr th {\n",
       "        vertical-align: top;\n",
       "    }\n",
       "\n",
       "    .dataframe thead th {\n",
       "        text-align: right;\n",
       "    }\n",
       "</style>\n",
       "<table border=\"1\" class=\"dataframe\">\n",
       "  <thead>\n",
       "    <tr style=\"text-align: right;\">\n",
       "      <th></th>\n",
       "      <th>objid</th>\n",
       "      <th>ra</th>\n",
       "      <th>dec</th>\n",
       "      <th>u</th>\n",
       "      <th>g</th>\n",
       "      <th>r</th>\n",
       "      <th>i</th>\n",
       "      <th>z</th>\n",
       "      <th>run</th>\n",
       "      <th>camcol</th>\n",
       "      <th>field</th>\n",
       "      <th>specobjid</th>\n",
       "      <th>redshift</th>\n",
       "      <th>plate</th>\n",
       "      <th>mjd</th>\n",
       "      <th>fiberid</th>\n",
       "    </tr>\n",
       "  </thead>\n",
       "  <tbody>\n",
       "    <tr>\n",
       "      <th>71900</th>\n",
       "      <td>1.237679e+18</td>\n",
       "      <td>20.929175</td>\n",
       "      <td>17.850000</td>\n",
       "      <td>19.48036</td>\n",
       "      <td>17.45735</td>\n",
       "      <td>16.41973</td>\n",
       "      <td>15.93231</td>\n",
       "      <td>15.57443</td>\n",
       "      <td>7845.0</td>\n",
       "      <td>6.0</td>\n",
       "      <td>82.0</td>\n",
       "      <td>5.782799e+18</td>\n",
       "      <td>0.104020</td>\n",
       "      <td>5136.0</td>\n",
       "      <td>55836.0</td>\n",
       "      <td>644.0</td>\n",
       "    </tr>\n",
       "    <tr>\n",
       "      <th>99537</th>\n",
       "      <td>1.237655e+18</td>\n",
       "      <td>204.846789</td>\n",
       "      <td>58.231714</td>\n",
       "      <td>19.36886</td>\n",
       "      <td>18.78513</td>\n",
       "      <td>18.69677</td>\n",
       "      <td>18.73917</td>\n",
       "      <td>18.64427</td>\n",
       "      <td>2243.0</td>\n",
       "      <td>3.0</td>\n",
       "      <td>406.0</td>\n",
       "      <td>7.661901e+18</td>\n",
       "      <td>2.381770</td>\n",
       "      <td>6805.0</td>\n",
       "      <td>56442.0</td>\n",
       "      <td>552.0</td>\n",
       "    </tr>\n",
       "    <tr>\n",
       "      <th>83585</th>\n",
       "      <td>1.237665e+18</td>\n",
       "      <td>185.154605</td>\n",
       "      <td>34.441953</td>\n",
       "      <td>16.70317</td>\n",
       "      <td>14.78784</td>\n",
       "      <td>13.88842</td>\n",
       "      <td>13.42341</td>\n",
       "      <td>13.06002</td>\n",
       "      <td>4552.0</td>\n",
       "      <td>2.0</td>\n",
       "      <td>101.0</td>\n",
       "      <td>2.250824e+18</td>\n",
       "      <td>0.032405</td>\n",
       "      <td>1999.0</td>\n",
       "      <td>53503.0</td>\n",
       "      <td>544.0</td>\n",
       "    </tr>\n",
       "    <tr>\n",
       "      <th>29188</th>\n",
       "      <td>1.237661e+18</td>\n",
       "      <td>211.890046</td>\n",
       "      <td>53.982937</td>\n",
       "      <td>18.86469</td>\n",
       "      <td>17.85815</td>\n",
       "      <td>17.49697</td>\n",
       "      <td>17.19232</td>\n",
       "      <td>17.08350</td>\n",
       "      <td>3705.0</td>\n",
       "      <td>2.0</td>\n",
       "      <td>98.0</td>\n",
       "      <td>1.490726e+18</td>\n",
       "      <td>0.078448</td>\n",
       "      <td>1324.0</td>\n",
       "      <td>53088.0</td>\n",
       "      <td>126.0</td>\n",
       "    </tr>\n",
       "    <tr>\n",
       "      <th>92136</th>\n",
       "      <td>1.237668e+18</td>\n",
       "      <td>122.097606</td>\n",
       "      <td>11.518757</td>\n",
       "      <td>19.45068</td>\n",
       "      <td>18.31847</td>\n",
       "      <td>17.71375</td>\n",
       "      <td>17.34425</td>\n",
       "      <td>17.15611</td>\n",
       "      <td>5182.0</td>\n",
       "      <td>5.0</td>\n",
       "      <td>51.0</td>\n",
       "      <td>2.724764e+18</td>\n",
       "      <td>0.115625</td>\n",
       "      <td>2420.0</td>\n",
       "      <td>54086.0</td>\n",
       "      <td>315.0</td>\n",
       "    </tr>\n",
       "  </tbody>\n",
       "</table>\n",
       "</div>"
      ],
      "text/plain": [
       "              objid          ra        dec         u         g         r  \\\n",
       "71900  1.237679e+18   20.929175  17.850000  19.48036  17.45735  16.41973   \n",
       "99537  1.237655e+18  204.846789  58.231714  19.36886  18.78513  18.69677   \n",
       "83585  1.237665e+18  185.154605  34.441953  16.70317  14.78784  13.88842   \n",
       "29188  1.237661e+18  211.890046  53.982937  18.86469  17.85815  17.49697   \n",
       "92136  1.237668e+18  122.097606  11.518757  19.45068  18.31847  17.71375   \n",
       "\n",
       "              i         z     run  camcol  field     specobjid  redshift  \\\n",
       "71900  15.93231  15.57443  7845.0     6.0   82.0  5.782799e+18  0.104020   \n",
       "99537  18.73917  18.64427  2243.0     3.0  406.0  7.661901e+18  2.381770   \n",
       "83585  13.42341  13.06002  4552.0     2.0  101.0  2.250824e+18  0.032405   \n",
       "29188  17.19232  17.08350  3705.0     2.0   98.0  1.490726e+18  0.078448   \n",
       "92136  17.34425  17.15611  5182.0     5.0   51.0  2.724764e+18  0.115625   \n",
       "\n",
       "        plate      mjd  fiberid  \n",
       "71900  5136.0  55836.0    644.0  \n",
       "99537  6805.0  56442.0    552.0  \n",
       "83585  1999.0  53503.0    544.0  \n",
       "29188  1324.0  53088.0    126.0  \n",
       "92136  2420.0  54086.0    315.0  "
      ]
     },
     "execution_count": 152,
     "metadata": {},
     "output_type": "execute_result"
    }
   ],
   "source": [
    "X_test.head()"
   ]
  },
  {
   "cell_type": "code",
   "execution_count": 153,
   "metadata": {
    "pycharm": {
     "name": "#%%\n"
    }
   },
   "outputs": [],
   "source": [
    "#Scaling\n",
    "from sklearn.preprocessing import MinMaxScaler\n",
    "def Normalize(df):\n",
    "    min_max=MinMaxScaler()\n",
    "    df=min_max.fit_transform(df)\n",
    "    return df\n",
    "x_train_norm=Normalize(X_train)\n",
    "x_test_norm=Normalize(X_test)\n",
    "\n"
   ]
  },
  {
   "cell_type": "code",
   "execution_count": 154,
   "metadata": {
    "pycharm": {
     "name": "#%%\n"
    }
   },
   "outputs": [
    {
     "data": {
      "text/html": [
       "<div>\n",
       "<style scoped>\n",
       "    .dataframe tbody tr th:only-of-type {\n",
       "        vertical-align: middle;\n",
       "    }\n",
       "\n",
       "    .dataframe tbody tr th {\n",
       "        vertical-align: top;\n",
       "    }\n",
       "\n",
       "    .dataframe thead th {\n",
       "        text-align: right;\n",
       "    }\n",
       "</style>\n",
       "<table border=\"1\" class=\"dataframe\">\n",
       "  <thead>\n",
       "    <tr style=\"text-align: right;\">\n",
       "      <th></th>\n",
       "      <th>objid</th>\n",
       "      <th>ra</th>\n",
       "      <th>dec</th>\n",
       "      <th>u</th>\n",
       "      <th>g</th>\n",
       "      <th>r</th>\n",
       "      <th>i</th>\n",
       "      <th>z</th>\n",
       "      <th>run</th>\n",
       "      <th>camcol</th>\n",
       "      <th>field</th>\n",
       "      <th>specobjid</th>\n",
       "      <th>redshift</th>\n",
       "      <th>plate</th>\n",
       "      <th>mjd</th>\n",
       "      <th>fiberid</th>\n",
       "    </tr>\n",
       "  </thead>\n",
       "  <tbody>\n",
       "    <tr>\n",
       "      <th>54264</th>\n",
       "      <td>1.237662e+18</td>\n",
       "      <td>208.267756</td>\n",
       "      <td>39.896214</td>\n",
       "      <td>18.37105</td>\n",
       "      <td>17.15672</td>\n",
       "      <td>16.35888</td>\n",
       "      <td>15.96190</td>\n",
       "      <td>15.67323</td>\n",
       "      <td>3893.0</td>\n",
       "      <td>3.0</td>\n",
       "      <td>293.0</td>\n",
       "      <td>1.551606e+18</td>\n",
       "      <td>0.118897</td>\n",
       "      <td>1378.0</td>\n",
       "      <td>53061.0</td>\n",
       "      <td>423.0</td>\n",
       "    </tr>\n",
       "    <tr>\n",
       "      <th>15773</th>\n",
       "      <td>1.237671e+18</td>\n",
       "      <td>120.543034</td>\n",
       "      <td>7.363963</td>\n",
       "      <td>19.43815</td>\n",
       "      <td>18.46648</td>\n",
       "      <td>18.07007</td>\n",
       "      <td>17.92631</td>\n",
       "      <td>17.87438</td>\n",
       "      <td>5972.0</td>\n",
       "      <td>3.0</td>\n",
       "      <td>32.0</td>\n",
       "      <td>2.337489e+18</td>\n",
       "      <td>0.000039</td>\n",
       "      <td>2076.0</td>\n",
       "      <td>53442.0</td>\n",
       "      <td>439.0</td>\n",
       "    </tr>\n",
       "    <tr>\n",
       "      <th>35104</th>\n",
       "      <td>1.237658e+18</td>\n",
       "      <td>178.717003</td>\n",
       "      <td>58.046112</td>\n",
       "      <td>18.32299</td>\n",
       "      <td>17.42034</td>\n",
       "      <td>17.14723</td>\n",
       "      <td>17.05126</td>\n",
       "      <td>16.99010</td>\n",
       "      <td>2826.0</td>\n",
       "      <td>5.0</td>\n",
       "      <td>272.0</td>\n",
       "      <td>9.274161e+18</td>\n",
       "      <td>-0.000236</td>\n",
       "      <td>8237.0</td>\n",
       "      <td>58162.0</td>\n",
       "      <td>450.0</td>\n",
       "    </tr>\n",
       "    <tr>\n",
       "      <th>67974</th>\n",
       "      <td>1.237665e+18</td>\n",
       "      <td>228.664538</td>\n",
       "      <td>28.464961</td>\n",
       "      <td>18.79082</td>\n",
       "      <td>17.57698</td>\n",
       "      <td>17.13278</td>\n",
       "      <td>16.93993</td>\n",
       "      <td>16.87533</td>\n",
       "      <td>4512.0</td>\n",
       "      <td>2.0</td>\n",
       "      <td>197.0</td>\n",
       "      <td>2.077311e+18</td>\n",
       "      <td>-0.000001</td>\n",
       "      <td>1845.0</td>\n",
       "      <td>54144.0</td>\n",
       "      <td>92.0</td>\n",
       "    </tr>\n",
       "    <tr>\n",
       "      <th>22045</th>\n",
       "      <td>1.237662e+18</td>\n",
       "      <td>167.981771</td>\n",
       "      <td>39.803301</td>\n",
       "      <td>19.08437</td>\n",
       "      <td>17.05434</td>\n",
       "      <td>16.08465</td>\n",
       "      <td>15.63078</td>\n",
       "      <td>15.29794</td>\n",
       "      <td>3900.0</td>\n",
       "      <td>6.0</td>\n",
       "      <td>288.0</td>\n",
       "      <td>2.229393e+18</td>\n",
       "      <td>0.076206</td>\n",
       "      <td>1980.0</td>\n",
       "      <td>53433.0</td>\n",
       "      <td>406.0</td>\n",
       "    </tr>\n",
       "  </tbody>\n",
       "</table>\n",
       "</div>"
      ],
      "text/plain": [
       "              objid          ra        dec         u         g         r  \\\n",
       "54264  1.237662e+18  208.267756  39.896214  18.37105  17.15672  16.35888   \n",
       "15773  1.237671e+18  120.543034   7.363963  19.43815  18.46648  18.07007   \n",
       "35104  1.237658e+18  178.717003  58.046112  18.32299  17.42034  17.14723   \n",
       "67974  1.237665e+18  228.664538  28.464961  18.79082  17.57698  17.13278   \n",
       "22045  1.237662e+18  167.981771  39.803301  19.08437  17.05434  16.08465   \n",
       "\n",
       "              i         z     run  camcol  field     specobjid  redshift  \\\n",
       "54264  15.96190  15.67323  3893.0     3.0  293.0  1.551606e+18  0.118897   \n",
       "15773  17.92631  17.87438  5972.0     3.0   32.0  2.337489e+18  0.000039   \n",
       "35104  17.05126  16.99010  2826.0     5.0  272.0  9.274161e+18 -0.000236   \n",
       "67974  16.93993  16.87533  4512.0     2.0  197.0  2.077311e+18 -0.000001   \n",
       "22045  15.63078  15.29794  3900.0     6.0  288.0  2.229393e+18  0.076206   \n",
       "\n",
       "        plate      mjd  fiberid  \n",
       "54264  1378.0  53061.0    423.0  \n",
       "15773  2076.0  53442.0    439.0  \n",
       "35104  8237.0  58162.0    450.0  \n",
       "67974  1845.0  54144.0     92.0  \n",
       "22045  1980.0  53433.0    406.0  "
      ]
     },
     "execution_count": 154,
     "metadata": {},
     "output_type": "execute_result"
    }
   ],
   "source": [
    "X_train.head()"
   ]
  },
  {
   "cell_type": "code",
   "execution_count": 155,
   "metadata": {
    "pycharm": {
     "name": "#%%\n"
    }
   },
   "outputs": [
    {
     "name": "stderr",
     "output_type": "stream",
     "text": [
      "C:\\Users\\gnane\\Anaconda3\\lib\\site-packages\\ipykernel_launcher.py:4: DataConversionWarning: A column-vector y was passed when a 1d array was expected. Please change the shape of y to (n_samples,), for example using ravel().\n",
      "  after removing the cwd from sys.path.\n"
     ]
    },
    {
     "data": {
      "text/plain": [
       "RandomForestClassifier(bootstrap=True, class_weight=None, criterion='entropy',\n",
       "            max_depth=None, max_features='auto', max_leaf_nodes=None,\n",
       "            min_impurity_decrease=0.0, min_impurity_split=None,\n",
       "            min_samples_leaf=1, min_samples_split=2,\n",
       "            min_weight_fraction_leaf=0.0, n_estimators=10, n_jobs=None,\n",
       "            oob_score=False, random_state=42, verbose=0, warm_start=False)"
      ]
     },
     "execution_count": 155,
     "metadata": {},
     "output_type": "execute_result"
    }
   ],
   "source": [
    "\n",
    "from sklearn.ensemble import RandomForestClassifier\n",
    "classifier = RandomForestClassifier(n_estimators = 10, criterion = 'entropy', random_state = 42)\n",
    "classifier.fit(x_train_norm, y_train)\n"
   ]
  },
  {
   "cell_type": "code",
   "execution_count": 156,
   "metadata": {
    "pycharm": {
     "name": "#%%\n"
    }
   },
   "outputs": [
    {
     "name": "stdout",
     "output_type": "stream",
     "text": [
      "(20818, 1) (20818,)\n",
      "0.9737246613507542\n",
      "Predicted Species     0     1     2\n",
      "Actual_class                       \n",
      "0                  7890    12    20\n",
      "1                   104  9791   300\n",
      "2                     2   109  2590\n"
     ]
    }
   ],
   "source": [
    "from sklearn.metrics import confusion_matrix\n",
    "\n",
    "# Predicting the Test set results\n",
    "y_pred = classifier.predict(x_test_norm)\n",
    "from sklearn.metrics import accuracy_score\n",
    "\n",
    "print (y_test.shape,y_pred.shape)\n",
    "print (accuracy_score(y_test, y_pred))\n",
    "# Making the Confusion Matrix\n",
    "print(pd.crosstab(y_test['class'], y_pred, rownames=['Actual_class'], colnames=['Predicted Species']))"
   ]
  },
  {
   "cell_type": "code",
   "execution_count": 162,
   "metadata": {
    "pycharm": {
     "name": "#%%\n"
    }
   },
   "outputs": [
    {
     "name": "stdout",
     "output_type": "stream",
     "text": [
      "['objid', 'ra', 'dec', 'u', 'g', 'r', 'i', 'z', 'run', 'camcol', 'field', 'specobjid', 'redshift', 'plate', 'mjd', 'fiberid']\n"
     ]
    }
   ],
   "source": [
    "import pickle\n",
    "with open('model.pkl','wb') as file:\n",
    "    pickle.dump(classifier, file)\n",
    "model_columns = list(data.columns)\n",
    "del model_columns[12]\n",
    "print (model_columns)\n",
    "with open('model_columns.pkl','wb') as file:\n",
    "    pickle.dump(model_columns, file)"
   ]
  },
  {
   "cell_type": "code",
   "execution_count": null,
   "metadata": {
    "pycharm": {
     "name": "#%%\n"
    }
   },
   "outputs": [],
   "source": [
    "model_columns = list(data.columns)"
   ]
  },
  {
   "cell_type": "code",
   "execution_count": null,
   "metadata": {},
   "outputs": [],
   "source": [
    "#Data Transformation\n",
    "#Skewness\n",
    "import scipy.stats as stats\n",
    "#objid\n",
    "stats.probplot(X_train[\"objid\"], dist=\"norm\", plot=plt);plt.show();\n",
    "X_train[\"objid\"].hist();"
   ]
  },
  {
   "cell_type": "code",
   "execution_count": 100,
   "metadata": {
    "pycharm": {
     "name": "#%%\n"
    }
   },
   "outputs": [
    {
     "data": {
      "image/png": "[encoded data removed]",
      "text/plain": [
       "<Figure size 432x288 with 1 Axes>"
      ]
     },
     "metadata": {
      "needs_background": "light"
     },
     "output_type": "display_data"
    },
    {
     "data": {
      "image/png": "[encoded data removed]",
      "text/plain": [
       "<Figure size 432x288 with 1 Axes>"
      ]
     },
     "metadata": {
      "needs_background": "light"
     },
     "output_type": "display_data"
    }
   ],
   "source": [
    "#Data Transformation\n",
    "#Skewness\n",
    "import scipy.stats as stats\n",
    "#objid\n",
    "stats.probplot(X_train[\"objid\"], dist=\"norm\", plot=plt);plt.show();\n",
    "X_train[\"objid\"].hist();"
   ]
  },
  {
   "cell_type": "code",
   "execution_count": 101,
   "metadata": {
    "pycharm": {
     "name": "#%%\n"
    }
   },
   "outputs": [
    {
     "data": {
      "image/png": "[encoded data removed]",
      "text/plain": [
       "<Figure size 432x288 with 1 Axes>"
      ]
     },
     "metadata": {
      "needs_background": "light"
     },
     "output_type": "display_data"
    },
    {
     "data": {
      "image/png": "[encoded data removed]",
      "text/plain": [
       "<Figure size 432x288 with 1 Axes>"
      ]
     },
     "metadata": {
      "needs_background": "light"
     },
     "output_type": "display_data"
    }
   ],
   "source": [
    "# J2000 Right Ascension (r-band)\n",
    "stats.probplot(X_train[\"ra\"], dist=\"norm\", plot=plt);plt.show();\n",
    "X_train[\"ra\"].hist();"
   ]
  },
  {
   "cell_type": "code",
   "execution_count": 102,
   "metadata": {
    "pycharm": {
     "name": "#%%\n"
    }
   },
   "outputs": [
    {
     "data": {
      "image/png": "[encoded data removed]",
      "text/plain": [
       "<Figure size 432x288 with 1 Axes>"
      ]
     },
     "metadata": {
      "needs_background": "light"
     },
     "output_type": "display_data"
    },
    {
     "data": {
      "image/png": "[encoded data removed]",
      "text/plain": [
       "<Figure size 432x288 with 1 Axes>"
      ]
     },
     "metadata": {
      "needs_background": "light"
     },
     "output_type": "display_data"
    }
   ],
   "source": [
    "stats.probplot(X_train[\"dec\"], dist=\"norm\", plot=plt);plt.show();\n",
    "X_train[\"dec\"].hist();"
   ]
  },
  {
   "cell_type": "code",
   "execution_count": 103,
   "metadata": {
    "pycharm": {
     "name": "#%%\n"
    }
   },
   "outputs": [
    {
     "data": {
      "image/png": "[encoded data removed]",
      "text/plain": [
       "<Figure size 432x288 with 1 Axes>"
      ]
     },
     "metadata": {
      "needs_background": "light"
     },
     "output_type": "display_data"
    },
    {
     "data": {
      "text/plain": [
       "<matplotlib.axes._subplots.AxesSubplot at 0x214356cf7f0>"
      ]
     },
     "execution_count": 103,
     "metadata": {},
     "output_type": "execute_result"
    },
    {
     "data": {
      "image/png": "[encoded data removed]",
      "text/plain": [
       "<Figure size 432x288 with 1 Axes>"
      ]
     },
     "metadata": {
      "needs_background": "light"
     },
     "output_type": "display_data"
    }
   ],
   "source": [
    "# better of deV/Exp magnitude fit (u-band)\n",
    "#If you analyze the u-band column, you will notice a left-skewed distribution in there. So we need to apply Exponential transformation to make it symmetrical.\n",
    "from sklearn.preprocessing import FunctionTransformer\n",
    "stats.probplot(X_train[\"u\"], dist=\"norm\", plot=plt);plt.show()\n",
    "X_train[\"u\"].hist()\n"
   ]
  },
  {
   "cell_type": "code",
   "execution_count": 104,
   "metadata": {
    "pycharm": {
     "name": "#%%\n"
    }
   },
   "outputs": [
    {
     "name": "stderr",
     "output_type": "stream",
     "text": [
      "C:\\Users\\gnane\\Anaconda3\\lib\\site-packages\\pandas\\core\\generic.py:4405: SettingWithCopyWarning: \n",
      "A value is trying to be set on a copy of a slice from a DataFrame.\n",
      "Try using .loc[row_indexer,col_indexer] = value instead\n",
      "\n",
      "See the caveats in the documentation: http://pandas.pydata.org/pandas-docs/stable/indexing.html#indexing-view-versus-copy\n",
      "  self[name] = value\n"
     ]
    }
   ],
   "source": [
    "import math\n",
    "columns=['u']\n",
    "exp_transformer = FunctionTransformer(lambda x:x**3, validate=True)\n",
    "# apply the transformation\n",
    "data_new = exp_transformer.transform(X_train[columns])\n",
    "df_new = pd.DataFrame(data_new, columns=columns)\n",
    "# replace new values with previous data frame\n",
    "X_train.u=df_new['u']\n"
   ]
  },
  {
   "cell_type": "code",
   "execution_count": 105,
   "metadata": {
    "pycharm": {
     "name": "#%%\n"
    }
   },
   "outputs": [
    {
     "name": "stderr",
     "output_type": "stream",
     "text": [
      "C:\\Users\\gnane\\Anaconda3\\lib\\site-packages\\scipy\\stats\\_distn_infrastructure.py:879: RuntimeWarning: invalid value encountered in greater\n",
      "  return (self.a < x) & (x < self.b)\n",
      "C:\\Users\\gnane\\Anaconda3\\lib\\site-packages\\scipy\\stats\\_distn_infrastructure.py:879: RuntimeWarning: invalid value encountered in less\n",
      "  return (self.a < x) & (x < self.b)\n",
      "C:\\Users\\gnane\\Anaconda3\\lib\\site-packages\\scipy\\stats\\_distn_infrastructure.py:1821: RuntimeWarning: invalid value encountered in less_equal\n",
      "  cond2 = cond0 & (x <= self.a)\n"
     ]
    },
    {
     "data": {
      "image/png": "[encoded data removed]",
      "text/plain": [
       "<Figure size 432x288 with 1 Axes>"
      ]
     },
     "metadata": {
      "needs_background": "light"
     },
     "output_type": "display_data"
    },
    {
     "data": {
      "image/png": "[encoded data removed]",
      "text/plain": [
       "<Figure size 432x288 with 1 Axes>"
      ]
     },
     "metadata": {
      "needs_background": "light"
     },
     "output_type": "display_data"
    }
   ],
   "source": [
    "stats.probplot(X_train[\"u\"], dist=\"norm\", plot=plt);\n",
    "plt.show();\n",
    "X_train['u'].hist();"
   ]
  },
  {
   "cell_type": "code",
   "execution_count": null,
   "metadata": {
    "pycharm": {
     "name": "#%%\n"
    }
   },
   "outputs": [],
   "source": [
    "stats.probplot(X_train[\"g\"], dist=\"norm\", plot=plt);plt.show();\n",
    "X_train[\"g\"].hist();"
   ]
  },
  {
   "cell_type": "code",
   "execution_count": null,
   "metadata": {
    "pycharm": {
     "name": "#%%\n"
    }
   },
   "outputs": [],
   "source": [
    "stats.probplot(X_train[\"r\"], dist=\"norm\", plot=plt);plt.show();\n",
    "X_train[\"r\"].hist();"
   ]
  },
  {
   "cell_type": "code",
   "execution_count": null,
   "metadata": {
    "pycharm": {
     "name": "#%%\n"
    }
   },
   "outputs": [],
   "source": [
    "stats.probplot(X_train[\"i\"], dist=\"norm\", plot=plt);plt.show();\n",
    "X_train[\"i\"].hist();"
   ]
  },
  {
   "cell_type": "code",
   "execution_count": null,
   "metadata": {
    "pycharm": {
     "name": "#%%\n"
    }
   },
   "outputs": [],
   "source": [
    "stats.probplot(X_train[\"z\"], dist=\"norm\", plot=plt);plt.show();\n",
    "X_train[\"z\"].hist();"
   ]
  },
  {
   "cell_type": "code",
   "execution_count": null,
   "metadata": {
    "pycharm": {
     "name": "#%%\n"
    }
   },
   "outputs": [],
   "source": [
    "stats.probplot(X_train[\"run\"], dist=\"norm\", plot=plt);plt.show();\n",
    "X_train[\"run\"].hist();"
   ]
  },
  {
   "cell_type": "code",
   "execution_count": null,
   "metadata": {
    "pycharm": {
     "name": "#%%\n"
    }
   },
   "outputs": [],
   "source": [
    "stats.probplot(X_train[\"camcol\"], dist=\"norm\", plot=plt);plt.show();\n",
    "X_train[\"camcol\"].hist();"
   ]
  },
  {
   "cell_type": "code",
   "execution_count": null,
   "metadata": {
    "pycharm": {
     "name": "#%%\n"
    }
   },
   "outputs": [],
   "source": [
    "stats.probplot(X_train[\"field\"], dist=\"norm\", plot=plt);plt.show();\n",
    "X_train[\"field\"].hist();"
   ]
  },
  {
   "cell_type": "code",
   "execution_count": null,
   "metadata": {
    "pycharm": {
     "name": "#%%\n"
    }
   },
   "outputs": [],
   "source": [
    "stats.probplot(X_train[\"specobjid\"], dist=\"norm\", plot=plt);plt.show();\n",
    "X_train[\"specobjid\"].hist();"
   ]
  },
  {
   "cell_type": "code",
   "execution_count": null,
   "metadata": {
    "pycharm": {
     "name": "#%%\n"
    }
   },
   "outputs": [],
   "source": [
    "stats.probplot(X_train[\"redshift\"], dist=\"norm\", plot=plt);plt.show();\n",
    "X_train[\"redshift\"].hist();"
   ]
  },
  {
   "cell_type": "code",
   "execution_count": null,
   "metadata": {
    "pycharm": {
     "name": "#%%\n"
    }
   },
   "outputs": [],
   "source": [
    "stats.probplot(X_train[\"plate\"], dist=\"norm\", plot=plt);plt.show();\n",
    "X_train[\"plate\"].hist();"
   ]
  },
  {
   "cell_type": "code",
   "execution_count": null,
   "metadata": {
    "pycharm": {
     "name": "#%%\n"
    }
   },
   "outputs": [],
   "source": [
    "stats.probplot(X_train[\"mjd\"], dist=\"norm\", plot=plt);plt.show();\n",
    "X_train[\"mjd\"].hist();"
   ]
  },
  {
   "cell_type": "code",
   "execution_count": null,
   "metadata": {
    "pycharm": {
     "name": "#%%\n"
    }
   },
   "outputs": [],
   "source": [
    "stats.probplot(X_train[\"fiberid\"], dist=\"norm\", plot=plt);plt.show();\n",
    "X_train[\"fiberid\"].hist();"
   ]
  },
  {
   "cell_type": "code",
   "execution_count": null,
   "metadata": {
    "pycharm": {
     "name": "#%%\n"
    }
   },
   "outputs": [],
   "source": [
    "X_train.skew()"
   ]
  },
  {
   "cell_type": "code",
   "execution_count": null,
   "metadata": {
    "pycharm": {
     "name": "#%%\n"
    }
   },
   "outputs": [],
   "source": [
    "X_train.head()"
   ]
  },
  {
   "cell_type": "code",
   "execution_count": null,
   "metadata": {
    "pycharm": {
     "name": "#%%\n"
    }
   },
   "outputs": [],
   "source": [
    "\n",
    "# One-hot encode the data using pandas get_dummies\n",
    "features_df = pd.get_dummies(features_df)\n",
    "# Display the first 5 rows of the last 12 columns\n",
    "features_df.iloc[:,3:].head(3)"
   ]
  },
  {
   "cell_type": "code",
   "execution_count": null,
   "metadata": {
    "pycharm": {
     "name": "#%%\n"
    }
   },
   "outputs": [],
   "source": [
    "data.head()"
   ]
  },
  {
   "cell_type": "code",
   "execution_count": null,
   "metadata": {
    "pycharm": {
     "name": "#%%\n"
    }
   },
   "outputs": [],
   "source": [
    "from sklearn.model_selection import train_test_split\n",
    "X_train, X_test, y_train, y_test = train_test_split(features_df, target_df, test_size = 0.2, random_state = 101)\n",
    "X_train"
   ]
  },
  {
   "cell_type": "code",
   "execution_count": null,
   "metadata": {
    "pycharm": {
     "name": "#%%\n"
    }
   },
   "outputs": [],
   "source": [
    "target_df"
   ]
  },
  {
   "cell_type": "code",
   "execution_count": null,
   "metadata": {
    "pycharm": {
     "name": "#%%\n"
    }
   },
   "outputs": [],
   "source": [
    "data['class'].nunique"
   ]
  },
  {
   "cell_type": "code",
   "execution_count": null,
   "metadata": {
    "pycharm": {
     "name": "#%%\n"
    }
   },
   "outputs": [],
   "source": []
  }
 ],
 "metadata": {
  "kernelspec": {
   "display_name": "Python 3",
   "language": "python",
   "name": "python3"
  },
  "language_info": {
   "codemirror_mode": {
    "name": "ipython",
    "version": 3
   },
   "file_extension": ".py",
   "mimetype": "text/x-python",
   "name": "python",
   "nbconvert_exporter": "python",
   "pygments_lexer": "ipython3",
   "version": "3.7.1"
  }
 },
 "nbformat": 4,
 "nbformat_minor": 1
}
